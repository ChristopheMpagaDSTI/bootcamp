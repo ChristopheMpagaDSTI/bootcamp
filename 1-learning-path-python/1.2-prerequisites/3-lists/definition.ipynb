{
 "cells": [
  {
   "cell_type": "markdown",
   "id": "f54f70d1",
   "metadata": {},
   "source": [
    "# Definition\n",
    "\n",
    "- A list is a sequence of values\n",
    "- Lists can be declared with the constructor *list()*, or []\n",
    "- Lists are divisable\n",
    "- Lists in python are mutable"
   ]
  },
  {
   "cell_type": "markdown",
   "id": "a5d624ca",
   "metadata": {},
   "source": [
    "- Sequences are series of values. The following sequence 1,2,3 is declared as a list\n"
   ]
  },
  {
   "cell_type": "code",
   "execution_count": 1,
   "id": "1901d27d",
   "metadata": {},
   "outputs": [
    {
     "data": {
      "text/plain": [
       "[1, 2, 3]"
      ]
     },
     "execution_count": 1,
     "metadata": {},
     "output_type": "execute_result"
    }
   ],
   "source": [
    "[1, 2, 3]"
   ]
  },
  {
   "cell_type": "markdown",
   "id": "7b989211",
   "metadata": {},
   "source": [
    "- Lists can be stored in variables. \n",
    "- The following sequence 1,2,3 is declared as a list with the `[]` constructor and stored in the variable L"
   ]
  },
  {
   "cell_type": "code",
   "execution_count": 7,
   "id": "9872d075",
   "metadata": {},
   "outputs": [
    {
     "name": "stdout",
     "output_type": "stream",
     "text": [
      "[1, 2, 3]\n"
     ]
    }
   ],
   "source": [
    "L = [1,2,3]\n",
    "print(l)"
   ]
  },
  {
   "cell_type": "markdown",
   "id": "f20e395b",
   "metadata": {},
   "source": [
    "- Lists are divisible: list values can be accessed by index\n",
    "\n",
    "    - Note indexing in python starts at 0\n",
    "    \n",
    "    - The first element of a list can be accessed at index 0"
   ]
  },
  {
   "cell_type": "code",
   "execution_count": 11,
   "id": "0fb870e2",
   "metadata": {},
   "outputs": [
    {
     "data": {
      "text/plain": [
       "1"
      ]
     },
     "execution_count": 11,
     "metadata": {},
     "output_type": "execute_result"
    }
   ],
   "source": [
    "L[0]"
   ]
  },
  {
   "cell_type": "markdown",
   "id": "21516857",
   "metadata": {},
   "source": [
    "- The latest element of a list can be accessed at -1"
   ]
  },
  {
   "cell_type": "code",
   "execution_count": null,
   "id": "b9078bc4",
   "metadata": {},
   "outputs": [],
   "source": [
    "L[-1]"
   ]
  },
  {
   "cell_type": "markdown",
   "id": "7ef75f6d",
   "metadata": {},
   "source": [
    "- Lists are mutable: it means a variable of type list can be modified with other mecanisms than affectation\n",
    "    - a value inside a list variable can be modified without reaffecting the whole list variable\n",
    "    - a variable with type list can be augmented by stacking or appending"
   ]
  },
  {
   "cell_type": "code",
   "execution_count": 9,
   "id": "f1a38030",
   "metadata": {},
   "outputs": [
    {
     "data": {
      "text/plain": [
       "[1, 5, 3]"
      ]
     },
     "execution_count": 9,
     "metadata": {},
     "output_type": "execute_result"
    }
   ],
   "source": [
    "#\n",
    "# changing value at index 1\n",
    "#\n",
    "L[1] = 5\n",
    "L"
   ]
  },
  {
   "cell_type": "code",
   "execution_count": 14,
   "id": "e2da8590",
   "metadata": {},
   "outputs": [
    {
     "data": {
      "text/plain": [
       "[1, 5, 3, 10, 10]"
      ]
     },
     "execution_count": 14,
     "metadata": {},
     "output_type": "execute_result"
    }
   ],
   "source": [
    "#\n",
    "# stacking\n",
    "#\n",
    "L = L + [10]\n",
    "L"
   ]
  },
  {
   "cell_type": "code",
   "execution_count": 15,
   "id": "ef6cab4d",
   "metadata": {},
   "outputs": [
    {
     "data": {
      "text/plain": [
       "[1, 5, 3, 10, 10, 60]"
      ]
     },
     "execution_count": 15,
     "metadata": {},
     "output_type": "execute_result"
    }
   ],
   "source": [
    "#\n",
    "# appending\n",
    "#\n",
    "L.append(60)\n",
    "L"
   ]
  },
  {
   "cell_type": "markdown",
   "id": "78f8ef9b",
   "metadata": {},
   "source": [
    "- List can be declared with the constructor `list()` but `[]` is more efficient"
   ]
  },
  {
   "cell_type": "code",
   "execution_count": 2,
   "id": "5ea3054f",
   "metadata": {},
   "outputs": [
    {
     "name": "stdout",
     "output_type": "stream",
     "text": [
      "[]\n",
      "[2]\n",
      "[2]\n"
     ]
    }
   ],
   "source": [
    "#\n",
    "# declaring an empty list\n",
    "#\n",
    "LL = list()\n",
    "print(LL)\n",
    "#\n",
    "# appending to the empty list\n",
    "#\n",
    "LL.append(2)\n",
    "print(LL)\n",
    "#\n",
    "# Most efficient\n",
    "LL = [2]\n",
    "print(LL)"
   ]
  }
 ],
 "metadata": {
  "kernelspec": {
   "display_name": "Python 3 (ipykernel)",
   "language": "python",
   "name": "python3"
  },
  "language_info": {
   "codemirror_mode": {
    "name": "ipython",
    "version": 3
   },
   "file_extension": ".py",
   "mimetype": "text/x-python",
   "name": "python",
   "nbconvert_exporter": "python",
   "pygments_lexer": "ipython3",
   "version": "3.9.13"
  }
 },
 "nbformat": 4,
 "nbformat_minor": 5
}
