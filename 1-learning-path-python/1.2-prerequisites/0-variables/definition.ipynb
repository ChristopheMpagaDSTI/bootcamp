{
 "cells": [
  {
   "cell_type": "markdown",
   "id": "291d4c87",
   "metadata": {},
   "source": [
    "## Definition\n",
    "\n",
    "- Variables are symbolic names that are references or pointers to objects in memory. They are containers for storing data value\n",
    "\n",
    "- A variable has a `name`, a `value` and a `type`."
   ]
  },
  {
   "cell_type": "markdown",
   "id": "3cbec4d2",
   "metadata": {},
   "source": [
    "### Variable assignement\n",
    "\n",
    "- To declare a variable, use the equality sign between the variable `name` and the variable `value`\n",
    "    - `name` = `value`\n",
    "- In python, variable `types` are assigned dynamically, so they don't need to be declared.\n",
    "    - by default, the variable will take the `type` of the `value` it has been assigned to"
   ]
  },
  {
   "cell_type": "code",
   "execution_count": 1,
   "id": "incorrect-february",
   "metadata": {},
   "outputs": [
    {
     "data": {
      "text/plain": [
       "str"
      ]
     },
     "execution_count": 1,
     "metadata": {},
     "output_type": "execute_result"
    }
   ],
   "source": [
    "a = \"2.5\"\n",
    "type(a)"
   ]
  },
  {
   "cell_type": "markdown",
   "id": "e34b266b",
   "metadata": {},
   "source": [
    "- Python is a dynamically typed langage.\n",
    "\n",
    "- Python interpreter does type checking only as code runs: the type of a variable is allowed to change over its lifetime. \n",
    "\n",
    "    - A variable can be initiated with a type and turned into another type\n",
    "    - For instance, a variable a defined as \"2.5\" can be turned into 2.5 using the *float()* function"
   ]
  },
  {
   "cell_type": "code",
   "execution_count": 2,
   "id": "bac52c14",
   "metadata": {},
   "outputs": [
    {
     "name": "stdout",
     "output_type": "stream",
     "text": [
      "<class 'str'> 2.5\n",
      "<class 'float'> 2.5\n"
     ]
    }
   ],
   "source": [
    "b = \"2.5\"\n",
    "print(type(b), b)\n",
    "b = float(b)\n",
    "print(type(b), b)"
   ]
  },
  {
   "cell_type": "markdown",
   "id": "9c7cde26",
   "metadata": {},
   "source": [
    "### Variable types\n",
    "\n",
    "Variables in python can assume one of the following types\n",
    "- integers : *int()*\n",
    "- floating point numbers : *float()*\n",
    "- complex numbers : *complex()*\n",
    "- strings : *str()*\n",
    "- booleans : *bool()*\n",
    "\n",
    "\n",
    "For a complete list of available types in python, see [types](https://github.com/tiptales/bootcamp/tree/main/1-learning-path-python/1.2-prerequisites/1-types)"
   ]
  },
  {
   "cell_type": "code",
   "execution_count": null,
   "id": "4616c53e",
   "metadata": {},
   "outputs": [],
   "source": []
  }
 ],
 "metadata": {
  "kernelspec": {
   "display_name": "Python 3 (ipykernel)",
   "language": "python",
   "name": "python3"
  },
  "language_info": {
   "codemirror_mode": {
    "name": "ipython",
    "version": 3
   },
   "file_extension": ".py",
   "mimetype": "text/x-python",
   "name": "python",
   "nbconvert_exporter": "python",
   "pygments_lexer": "ipython3",
   "version": "3.9.13"
  }
 },
 "nbformat": 4,
 "nbformat_minor": 5
}
