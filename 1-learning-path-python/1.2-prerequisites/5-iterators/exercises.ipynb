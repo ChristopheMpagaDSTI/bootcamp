{
 "cells": [
  {
   "cell_type": "markdown",
   "id": "30315cad",
   "metadata": {},
   "source": [
    "## Exercise 1\n",
    "\n",
    "- create a list L containing values 10, 20 and 30\n",
    "- iterate over this list to multiply each element by 2 and print it"
   ]
  },
  {
   "cell_type": "code",
   "execution_count": null,
   "id": "a4a8bd3e",
   "metadata": {},
   "outputs": [],
   "source": []
  },
  {
   "cell_type": "markdown",
   "id": "87b46124",
   "metadata": {},
   "source": [
    "## Exercise 2\n",
    "\n",
    "- iterate over the index of L and print the index\n"
   ]
  },
  {
   "cell_type": "code",
   "execution_count": null,
   "id": "532d9de6",
   "metadata": {},
   "outputs": [],
   "source": []
  }
 ],
 "metadata": {
  "kernelspec": {
   "display_name": "Python 3 (ipykernel)",
   "language": "python",
   "name": "python3"
  },
  "language_info": {
   "codemirror_mode": {
    "name": "ipython",
    "version": 3
   },
   "file_extension": ".py",
   "mimetype": "text/x-python",
   "name": "python",
   "nbconvert_exporter": "python",
   "pygments_lexer": "ipython3",
   "version": "3.9.13"
  }
 },
 "nbformat": 4,
 "nbformat_minor": 5
}
